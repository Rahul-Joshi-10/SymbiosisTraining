{
 "cells": [
  {
   "cell_type": "markdown",
   "metadata": {},
   "source": [
    "DateTime :\n",
    "\n",
    "*  Time intervals are floating points numbers in units of seconds. Paticular instance in time are expressed in seconds since 12:00 Am, January 1, 1970(epoch)\n",
    "* function returns time.time() current system time in ticks\n",
    "* current time is fetched from our system\n",
    "* this time is cutoff in sometime in 2038 for unix and windows\n",
    "* we also can't go beyond Jan 1, 1970\n",
    "\n",
    "\n",
    "* What is TimeTuple?\n",
    "*  Many of Python's time functions handle time as a tuple of 9 numbers, as shownbelow:\n",
    "* Index Field Values\n",
    "0. 4-dig it year 2008\n",
    "1. Month 1 to 12\n",
    "2. Day 1 to 31\n",
    "3. Hour 0 to 23\n",
    "4. Minute 0 to 59\n",
    "5. Second 0 to 61 (60 or 61 are leap-seconds)\n",
    "6. Day of Week 0 to 6 (0 is Monday)\n",
    "7. Day of year 1 to 366 (Julianday)\n",
    "8. Daylight saving s -1, 0, 1, -1 means library determines DST\n",
    "* The above tuple is equivalentto struct_time structure."
   ]
  },
  {
   "cell_type": "code",
   "execution_count": 338,
   "metadata": {},
   "outputs": [
    {
     "name": "stdout",
     "output_type": "stream",
     "text": [
      "<class 'float'>\n",
      "This time is going on since 12:00 Am, January 1, 1970(epoch) : 1722829586.5479004\n"
     ]
    }
   ],
   "source": [
    "import time \n",
    "ticks = time.time()\n",
    "print(type(time.time()))\n",
    "print(\"This time is going on since 12:00 Am, January 1, 1970(epoch) :\",ticks)"
   ]
  },
  {
   "cell_type": "code",
   "execution_count": 347,
   "metadata": {},
   "outputs": [
    {
     "data": {
      "text/plain": [
       "(5, 8, 9, 23, 2, 2024)"
      ]
     },
     "execution_count": 347,
     "metadata": {},
     "output_type": "execute_result"
    }
   ],
   "source": [
    "# To convert ticks into localtime we use\n",
    "localtime = time.localtime(time.time())\n",
    "day = localtime[2]\n",
    "month = localtime[1]\n",
    "hr = localtime[3]\n",
    "mine = localtime[4] \n",
    "sec = localtime[5] \n",
    "year = localtime[0]\n",
    "day,month,hr,mine,sec,year"
   ]
  },
  {
   "cell_type": "code",
   "execution_count": 344,
   "metadata": {},
   "outputs": [
    {
     "data": {
      "text/plain": [
       "('Aug', '5', '09:21:58', 'Mon')"
      ]
     },
     "execution_count": 344,
     "metadata": {},
     "output_type": "execute_result"
    }
   ],
   "source": [
    "# this one return only one paramter current day month date and time with year\n",
    "# write a program to fetch current time from asctime function\n",
    "# thus print new time format as follows month day, time , day of week\n",
    "\n",
    "curr_time = time.asctime(time.localtime(time.time()))\n",
    "curr_time = curr_time.split(\" \")\n",
    "day_wak = curr_time[0]\n",
    "month = curr_time[1]\n",
    "date = curr_time[3]\n",
    "timee = curr_time[4]\n",
    "\n",
    "curr_time[1],curr_time[3],curr_time[4],curr_time[0]\n"
   ]
  },
  {
   "cell_type": "code",
   "execution_count": 361,
   "metadata": {},
   "outputs": [
    {
     "name": "stdout",
     "output_type": "stream",
     "text": [
      "     March 2024\n",
      "Mo Tu We Th Fr Sa Su\n",
      "             1  2  3\n",
      " 4  5  6  7  8  9 10\n",
      "11 12 13 14 15 16 17\n",
      "18 19 20 21 22 23 24\n",
      "25 26 27 28 29 30 31\n",
      "\n"
     ]
    },
    {
     "data": {
      "text/plain": [
       "(str, 142)"
      ]
     },
     "execution_count": 361,
     "metadata": {},
     "output_type": "execute_result"
    }
   ],
   "source": [
    "import calendar\n",
    "cal = calendar.month(2024, 3)\n",
    "print(cal)\n",
    "type(cal),len(cal)"
   ]
  },
  {
   "cell_type": "markdown",
   "metadata": {},
   "source": [
    "* Python Pickle — Python object serialization\n",
    "\n",
    "Python pickle module is used for serializing and de-serializing a Python object structure. Any object in Python can be pickled so that it can be saved on disk. What Pickle does is it “serializes” the object first before writing it to a file. Pickling is a way to convert a Python object (list, dictionary, etc.) into a character stream. The idea is that this character stream contains all the information necessary to reconstruct the object in another Python script. It provides a facility to convert any Python object to a byte stream. This Byte stream contains all essential information about the object so that it can be reconstructed, or “unpickled” and get back into its original form in any Python."
   ]
  },
  {
   "cell_type": "markdown",
   "metadata": {},
   "source": [
    "An object of type time or date may be aware or naive\n",
    "\n",
    "* Aware : a datetime object is aware if both of the following hold:\n",
    "  1. obj.tzinfo is not NONE\n",
    "  2. obj.tzinfo.utcoffset(obj) dose not return NONE   \n",
    "\n",
    "* Naive : if object is not aware then it's naive which means it return NONE in one of the zinfo()\n"
   ]
  },
  {
   "cell_type": "code",
   "execution_count": 377,
   "metadata": {},
   "outputs": [
    {
     "data": {
      "text/plain": [
       "datetime.timedelta(days=415, seconds=3660)"
      ]
     },
     "execution_count": 377,
     "metadata": {},
     "output_type": "execute_result"
    }
   ],
   "source": [
    "from datetime import timedelta\n",
    "delta = timedelta(\n",
    "    days=365,\n",
    "    seconds=60,\n",
    "    \n",
    "    minutes=60,\n",
    "    hours=24,\n",
    "    weeks=7\n",
    "    \n",
    ")\n",
    "delta\n"
   ]
  },
  {
   "cell_type": "code",
   "execution_count": 378,
   "metadata": {},
   "outputs": [
    {
     "name": "stdout",
     "output_type": "stream",
     "text": [
      "415 days, 1:01:00\n"
     ]
    }
   ],
   "source": [
    "timedelta(hours=-5)\n",
    "\n",
    "print(_)"
   ]
  },
  {
   "cell_type": "code",
   "execution_count": 382,
   "metadata": {},
   "outputs": [
    {
     "name": "stdout",
     "output_type": "stream",
     "text": [
      "Current date and time  : 2024-08-05 09:56:34.408966\n",
      "Date and time one year from now  : 2025-08-05 09:56:34.408966\n",
      "Date and time one year ago  : 2023-08-06 09:56:34.408966\n"
     ]
    }
   ],
   "source": [
    "from datetime import datetime, timedelta\n",
    "\n",
    "# Save the current date and time\n",
    "current_date = datetime.now()\n",
    "\n",
    "# Define a timedelta (e.g., 365 days)\n",
    "delta = timedelta(days=365)\n",
    "\n",
    "# Calculate a future date by adding the timedelta\n",
    "future_date = current_date + delta\n",
    "\n",
    "# Calculate a past date by subtracting the timedelta\n",
    "past_date = current_date - delta\n",
    "\n",
    "# Print results\n",
    "print(\"Current date and time  :\", current_date)\n",
    "print(\"Date and time one year from now  :\", future_date)\n",
    "print(\"Date and time one year ago  :\", past_date)\n"
   ]
  },
  {
   "cell_type": "markdown",
   "metadata": {},
   "source": [
    "Limitation of Dates:\n",
    "1. Reduced precision dates are not currently supported (YYYY-MM, YYYY).\n",
    "2. Extended date representations are not currently supported (±YYYYYY-MM-DD).\n",
    "3. Ordinal dates are not currently supported (YYYY-OOO)."
   ]
  },
  {
   "cell_type": "code",
   "execution_count": 383,
   "metadata": {},
   "outputs": [
    {
     "data": {
      "text/plain": [
       "datetime.date(2021, 1, 4)"
      ]
     },
     "execution_count": 383,
     "metadata": {},
     "output_type": "execute_result"
    }
   ],
   "source": [
    "# converting string to time date format\n",
    "from datetime import date\n",
    "date.fromisoformat('2019-12-04')\n",
    "date.fromisoformat('20191204')\n",
    "date.fromisoformat('2021-W01-1')"
   ]
  },
  {
   "cell_type": "code",
   "execution_count": 388,
   "metadata": {},
   "outputs": [
    {
     "data": {
      "text/plain": [
       "datetime.IsoCalendarDate"
      ]
     },
     "execution_count": 388,
     "metadata": {},
     "output_type": "execute_result"
    }
   ],
   "source": [
    "# ISO international organization for standardization\n",
    "d=date(2004,3,18).isocalendar()\n",
    "type(d)"
   ]
  },
  {
   "cell_type": "code",
   "execution_count": 392,
   "metadata": {},
   "outputs": [
    {
     "data": {
      "text/plain": [
       "datetime.date(2025, 3, 18)"
      ]
     },
     "execution_count": 392,
     "metadata": {},
     "output_type": "execute_result"
    }
   ],
   "source": [
    "today =  date.today()\n",
    "today == date.fromtimestamp(time.time())\n",
    "my_birthday = date(today.year,3,18)\n",
    "if my_birthday<today:\n",
    "    my_birthday = my_birthday.replace(year=today.year+1)\n",
    "my_birthday"
   ]
  },
  {
   "cell_type": "markdown",
   "metadata": {},
   "source": [
    "counting day to an event"
   ]
  },
  {
   "cell_type": "code",
   "execution_count": 399,
   "metadata": {},
   "outputs": [
    {
     "data": {
      "text/plain": [
       "354"
      ]
     },
     "execution_count": 399,
     "metadata": {},
     "output_type": "execute_result"
    }
   ],
   "source": [
    "# write a program to count no of days to your birthday\n",
    "\n",
    "import time\n",
    "from datetime import date\n",
    "today = date.today()\n",
    "today\n",
    "\n",
    "today == date.fromtimestamp(time.time())\n",
    "\n",
    "my_birthday = date(today.year+1, 7, 25)\n",
    "if my_birthday < today:\n",
    "    my_birthday = my_birthday.replace(year=today.year + 1)\n",
    "\n",
    "my_birthday\n",
    "\n",
    "time_to_birthday = abs(my_birthday - today)\n",
    "time_to_birthday.days"
   ]
  },
  {
   "cell_type": "code",
   "execution_count": 401,
   "metadata": {},
   "outputs": [
    {
     "data": {
      "text/plain": [
       "'The day is 11, the month is March.'"
      ]
     },
     "execution_count": 401,
     "metadata": {},
     "output_type": "execute_result"
    }
   ],
   "source": [
    "d = date.fromordinal(730920) # 730920th day after 1. 1. 0001\n",
    "d\n",
    "# Methods related to formatting string output\n",
    "d.isoformat()\n",
    "d.strftime(\"%d/%m/%y\")\n",
    "d.strftime(\"%A %d. %B %Y\")\n",
    "d.ctime()\n",
    "'The {1} is {0:%d}, the {2} is {0:%B}.'.format(d, \"day\", \"month\")"
   ]
  },
  {
   "cell_type": "code",
   "execution_count": 413,
   "metadata": {},
   "outputs": [
    {
     "name": "stdout",
     "output_type": "stream",
     "text": [
      "2025-01-21\n"
     ]
    }
   ],
   "source": [
    "# write a program to check weather the applicant previous interview and current interview date has a gap of 180 days if not then give the applicant new interview date provided the above condition\n",
    "\n",
    "today = date.today()\n",
    "today\n",
    "\n",
    "today == date.fromtimestamp(time.time())\n",
    "\n",
    "interview_date_old = date(today.year, 7, 25)\n",
    "interview_date_new = date(today.year, 8, 25)\n",
    "\n",
    "\n",
    "difference = interview_date_new - interview_date_old\n",
    "\n",
    "days = difference.days\n",
    "\n",
    "if days<180:\n",
    "    to_add = 180 - days\n",
    "    new_date=interview_date_new + timedelta(days=to_add)\n",
    "    print(new_date)\n",
    "\n",
    "else:\n",
    "    print('your are good to go')"
   ]
  },
  {
   "cell_type": "code",
   "execution_count": 436,
   "metadata": {},
   "outputs": [
    {
     "name": "stdout",
     "output_type": "stream",
     "text": [
      "217 days, 0:00:00\n"
     ]
    },
    {
     "data": {
      "text/plain": [
       "6200000"
      ]
     },
     "execution_count": 436,
     "metadata": {},
     "output_type": "execute_result"
    }
   ],
   "source": [
    "# write a program for profit generated by machine working 4hr/pay from 1 jan 2024 till now \n",
    "# the rate of porfit of machine is 10,000 /hr \n",
    "\n",
    "today = date.today()\n",
    "start = date(2024,1,1)\n",
    "\n",
    "total_days = today-start\n",
    "print(total_days)\n",
    "total_weeks = total_days / 7\n",
    "\n",
    "total_profit = str(total_weeks * 5 * 4 * 10000)\n",
    "\n",
    "total_profit=total_profit.split(\" \")\n",
    "total_profit=total_profit[0]\n",
    "total_profit= int(total_profit)\n",
    "total_profit"
   ]
  }
 ],
 "metadata": {
  "kernelspec": {
   "display_name": "Python 3",
   "language": "python",
   "name": "python3"
  },
  "language_info": {
   "codemirror_mode": {
    "name": "ipython",
    "version": 3
   },
   "file_extension": ".py",
   "mimetype": "text/x-python",
   "name": "python",
   "nbconvert_exporter": "python",
   "pygments_lexer": "ipython3",
   "version": "3.12.1"
  }
 },
 "nbformat": 4,
 "nbformat_minor": 2
}
