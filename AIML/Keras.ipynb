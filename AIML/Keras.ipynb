{
 "cells": [
  {
   "cell_type": "code",
   "execution_count": 7,
   "metadata": {},
   "outputs": [],
   "source": [
    "import tensorflow as tf\n",
    "import numpy as np\n",
    "from tensorflow.keras.models import Sequential\n",
    "from tensorflow.keras.layers import Dense, Input, Activation\n",
    "from tensorflow.keras.datasets import boston_housing\n",
    "import matplotlib.pyplot as plt"
   ]
  },
  {
   "cell_type": "markdown",
   "metadata": {},
   "source": [
    " TensorFlow\n",
    "* Inherit form Theano ( data flow graph )\n",
    "* A python package/C++ library\n",
    "* Running of CPU or NVIDIA CUDA GPU\n",
    "* A parallel computing platform for NVIDIA GPU\n",
    "* GPU acccelerated computing / application\n",
    "* CPU vs GPU tensorFLow training CNN model on  CIFAR10 images\n",
    "\n",
    " Keras Models\n",
    "* Two main types of models avilable\n",
    "    * The sequential model (easy to learn)\n",
    "    * A linear stack of layers\n",
    "    * Need to specify  what input shape is should expect (input dim)\n",
    "* The model class used with the function API \n"
   ]
  },
  {
   "cell_type": "code",
   "execution_count": null,
   "metadata": {},
   "outputs": [],
   "source": [
    "# Define a sequential model\n",
    "model = Sequential()\n",
    "mode.add(Dense(32, input_dim=786))\n",
    "model.add(Activation('relu'))\n",
    "model.add(Dense(10))\n",
    "model.add(Activation('softmax'))\n",
    "#  Compilation\n",
    "model.compile(optimizer='rmsprop',loss='binary_crossentropy', metrics=['accuray'])\n",
    "#  Training\n",
    "model = model.fit(data, one_hot_labels,\n",
    "epoch=10, batch_size=32)\n",
    "#  Predition\n",
    "Y_pred = model.predict(X)"
   ]
  },
  {
   "cell_type": "markdown",
   "metadata": {},
   "source": [
    "Specifying the input shape\n",
    "* the model needs to know what input shape is should expect. \n",
    "* for this reason frist layer in sequential model (and only frist coz other layer are doing atuomatic shape inference ) need to recive information about input shape\n",
    "\n",
    "Ways to do it:\n",
    "* pass an \"input_shape\" argument to frist layer. this is shape of tuple. in input_shape the batch dimension is not included\n",
    "* pass instaed a \"batch_input_shape\" argument, where the batch dimension is included, this is usefull for specifying a fixed batch size(ex with statefull RNN's)\n",
    "* some 2D layers such as Dense support teh specification of their input shape via argument"
   ]
  },
  {
   "cell_type": "code",
   "execution_count": null,
   "metadata": {},
   "outputs": [],
   "source": [
    "# Seed value for reproducibility\n",
    "SEED_value = 42\n",
    "np.random.seed(SEED_value)\n",
    "tf.random.set_seed(SEED_value)\n",
    "\n",
    "# Load the Boston Housing dataset\n",
    "(x_train, y_train), (x_test, y_test) = boston_housing.load_data()\n"
   ]
  },
  {
   "cell_type": "code",
   "execution_count": 13,
   "metadata": {},
   "outputs": [
    {
     "data": {
      "text/plain": [
       "tuple"
      ]
     },
     "execution_count": 13,
     "metadata": {},
     "output_type": "execute_result"
    }
   ],
   "source": [
    "# Reshape data for the model (from 1D array to 2D array)\n",
    "x_train_feature = x_train_feature.reshape(-1, 1)\n",
    "x_test_feature = x_test_feature.reshape(-1, 1)\n",
    "\n",
    "print(\"Shape of x_train_feature:\", x_train_feature.shape)\n",
    "print(\"Shape of x_test_feature:\", x_test_feature.shape)"
   ]
  },
  {
   "cell_type": "code",
   "execution_count": null,
   "metadata": {},
   "outputs": [],
   "source": [
    "# Build the model\n",
    "model = Sequential()\n",
    "model.add(Input(shape=(1,)))\n",
    "model.add(Dense(64, activation='relu'))\n",
    "model.add(Dense(64, activation='relu'))\n",
    "model.add(Dense(1))"
   ]
  },
  {
   "cell_type": "code",
   "execution_count": null,
   "metadata": {},
   "outputs": [],
   "source": [
    "# Train the model\n",
    "history = model.fit(x_train_feature, y_train, batch_size=16, epochs=101, validation_split=0.3)"
   ]
  },
  {
   "cell_type": "code",
   "execution_count": null,
   "metadata": {},
   "outputs": [],
   "source": [
    "# Plotting the training and validation loss\n",
    "plt.figure(figsize=(12, 8))\n",
    "plt.plot(history.history['loss'], label='Training Loss')\n",
    "plt.plot(history.history['val_loss'], label='Validation Loss')\n",
    "plt.xlabel('Epochs')\n",
    "plt.ylabel('Loss')\n",
    "plt.legend()\n",
    "plt.show()\n",
    "\n",
    "# Evaluate the model on the test set\n",
    "test_loss = model.evaluate(x_test_feature, y_test)\n",
    "print(f\"Test Loss: {test_loss}\")"
   ]
  },
  {
   "cell_type": "code",
   "execution_count": null,
   "metadata": {},
   "outputs": [],
   "source": []
  }
 ],
 "metadata": {
  "kernelspec": {
   "display_name": "Python 3",
   "language": "python",
   "name": "python3"
  },
  "language_info": {
   "codemirror_mode": {
    "name": "ipython",
    "version": 3
   },
   "file_extension": ".py",
   "mimetype": "text/x-python",
   "name": "python",
   "nbconvert_exporter": "python",
   "pygments_lexer": "ipython3",
   "version": "3.12.1"
  }
 },
 "nbformat": 4,
 "nbformat_minor": 2
}
