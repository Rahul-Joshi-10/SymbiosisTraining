{
 "cells": [
  {
   "cell_type": "markdown",
   "metadata": {},
   "source": [
    " TensorFlow\n",
    "* Inherit form Theano ( data flow graph )\n",
    "* A python package/C++ library\n",
    "* Running of CPU or NVIDIA CUDA GPU\n",
    "* A parallel computing platform for NVIDIA GPU\n",
    "* GPU acccelerated computing / application\n",
    "* CPU vs GPU tensorFLow training CNN model on  CIFAR10 images\n",
    "\n",
    " Keras Models\n",
    "* Two main types of models avilable\n",
    "    * The sequential model (easy to learn)\n",
    "    * A linear stack of layers\n",
    "    * Need to specify  what input shape is should expect (input dim)\n",
    "* The model class used with the function API \n"
   ]
  },
  {
   "cell_type": "code",
   "execution_count": null,
   "metadata": {},
   "outputs": [],
   "source": [
    "# Define a sequential model\n",
    "model = Sequential()\n",
    "mode.add(Dense(32, input_dim=786))\n",
    "model.add(Activation('relu'))\n",
    "model.add(Dense(10))\n",
    "model.add(Activation('softmax'))\n",
    "#  Compilation\n",
    "model.compile(optimizer='rmsprop',loss='binary_crossentropy', metrics=['accuray'])\n",
    "#  Training\n",
    "model = model.fit(data, one_hot_labels,\n",
    "epoch=10, batch_size=32)\n",
    "#  Predition\n",
    "Y_pred = model.predict(X)"
   ]
  },
  {
   "cell_type": "markdown",
   "metadata": {},
   "source": [
    "Specifying the input shape\n",
    "* the model needs to know what input shape is should expect. \n",
    "* for this reason frist layer in sequential model (and only frist coz other layer are doing atuomatic shape inference ) need to recive information about input shape\n",
    "\n",
    "Ways to do it:\n",
    "* pass an \"input_shape\" argument to frist layer. this is shape of tuple. in input_shape the batch dimension is not included\n",
    "* pass instaed a \"batch_input_shape\" argument, where the batch dimension is included, this is usefull for specifying a fixed batch size(ex with statefull RNN's)\n",
    "* some 2D layers such as Dense support teh specification of their input shape via argument"
   ]
  },
  {
   "cell_type": "code",
   "execution_count": null,
   "metadata": {},
   "outputs": [],
   "source": [
    "import tensorflow as tf\n"
   ]
  }
 ],
 "metadata": {
  "language_info": {
   "name": "python"
  }
 },
 "nbformat": 4,
 "nbformat_minor": 2
}
