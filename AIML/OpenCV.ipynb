{
 "cells": [
  {
   "cell_type": "code",
   "execution_count": 1,
   "metadata": {},
   "outputs": [],
   "source": [
    "import cv2"
   ]
  },
  {
   "cell_type": "code",
   "execution_count": 2,
   "metadata": {},
   "outputs": [],
   "source": [
    "path = r\"R:\\AI Ml\\.ipynb_checkpoints\\Images\\Screenshot 2024-07-18 124841.png\"\n",
    "image = cv2.imread(path)"
   ]
  },
  {
   "cell_type": "code",
   "execution_count": 3,
   "metadata": {},
   "outputs": [
    {
     "name": "stdout",
     "output_type": "stream",
     "text": [
      "Image loaded successfully. Original Image shape: (557, 552, 3)\n",
      "Resized Image shape: (600, 800, 3)\n"
     ]
    }
   ],
   "source": [
    "if image is None:\n",
    "    print(\"Error: Image not loaded. Please check the path and the image file.\")\n",
    "else:\n",
    "    print(\"Image loaded successfully. Original Image shape:\", image.shape)\n",
    "    \n",
    "    # Set the new size\n",
    "    new_width = 800\n",
    "    new_height = 600\n",
    "    resized_image = cv2.resize(image, (new_width, new_height))\n",
    "\n",
    "    # Check the new size of the image\n",
    "    print(\"Resized Image shape:\", resized_image.shape)\n",
    "    \n",
    "    # Display the resized image\n",
    "    cv2.imshow(\"output\", resized_image)\n",
    "    cv2.waitKey(0)\n",
    "    cv2.destroyAllWindows()"
   ]
  },
  {
   "cell_type": "code",
   "execution_count": 4,
   "metadata": {},
   "outputs": [],
   "source": [
    "# converting image into black and white\n",
    "image_gray = cv2.cvtColor(image,cv2.COLOR_BGR2GRAY)\n",
    "cv2.imshow(\"gray output of image\",image_gray)\n",
    "cv2.waitKey(0)\n",
    "cv2.destroyAllWindows()"
   ]
  },
  {
   "cell_type": "code",
   "execution_count": 5,
   "metadata": {},
   "outputs": [
    {
     "data": {
      "text/plain": [
       "-1"
      ]
     },
     "execution_count": 5,
     "metadata": {},
     "output_type": "execute_result"
    }
   ],
   "source": [
    "cv2.imwrite(r\"R:\\AI Ml\\.ipynb_checkpoints\\Images\\screen_shot_gray.jpeg\",image_gray)\n",
    "cv2.waitKey()"
   ]
  },
  {
   "cell_type": "code",
   "execution_count": 6,
   "metadata": {},
   "outputs": [
    {
     "name": "stdout",
     "output_type": "stream",
     "text": [
      "Camera opened successfully\n"
     ]
    }
   ],
   "source": [
    "# capturing videos from camera\n",
    "cap = cv2.VideoCapture(0) # 0 is for deafult camera\n",
    "if not cap.isOpened():\n",
    "    print(\"Could not open the camera\")\n",
    "else:\n",
    "    print(\"Camera opened successfully\")\n",
    "\n",
    "while True:\n",
    "    ret, frame = cap.read()\n",
    "    cv2.imshow('frame', frame)\n",
    "    if not ret:\n",
    "        print(\"failed to grabe the frame\")\n",
    "\n",
    "    if cv2.waitKey(1) & 0xFF == ord('z'):\n",
    "        break\n",
    "\n",
    "cap.release()\n",
    "cv2.destroyAllWindows()"
   ]
  },
  {
   "cell_type": "code",
   "execution_count": 7,
   "metadata": {},
   "outputs": [
    {
     "name": "stdout",
     "output_type": "stream",
     "text": [
      "Camera opened successfully.\n",
      "Resolution: 640.0 x 480.0  | FPS: 30.0\n",
      "Resolution: 640.0 x 480.0  | FPS: 30.0\n",
      "Resolution: 640.0 x 480.0  | FPS: 30.0\n",
      "Resolution: 640.0 x 480.0  | FPS: 30.0\n",
      "Resolution: 640.0 x 480.0  | FPS: 30.0\n",
      "Resolution: 640.0 x 480.0  | FPS: 30.0\n",
      "Resolution: 640.0 x 480.0  | FPS: 30.0\n",
      "Resolution: 640.0 x 480.0  | FPS: 30.0\n",
      "Resolution: 640.0 x 480.0  | FPS: 30.0\n",
      "Resolution: 640.0 x 480.0  | FPS: 30.0\n",
      "Resolution: 640.0 x 480.0  | FPS: 30.0\n",
      "Resolution: 640.0 x 480.0  | FPS: 30.0\n",
      "Resolution: 640.0 x 480.0  | FPS: 30.0\n",
      "Resolution: 640.0 x 480.0  | FPS: 30.0\n",
      "Resolution: 640.0 x 480.0  | FPS: 30.0\n",
      "Resolution: 640.0 x 480.0  | FPS: 30.0\n",
      "Resolution: 640.0 x 480.0  | FPS: 30.0\n",
      "Resolution: 640.0 x 480.0  | FPS: 30.0\n",
      "Resolution: 640.0 x 480.0  | FPS: 30.0\n",
      "Resolution: 640.0 x 480.0  | FPS: 30.0\n",
      "Resolution: 640.0 x 480.0  | FPS: 30.0\n",
      "Resolution: 640.0 x 480.0  | FPS: 30.0\n",
      "Resolution: 640.0 x 480.0  | FPS: 30.0\n",
      "Resolution: 640.0 x 480.0  | FPS: 30.0\n",
      "Resolution: 640.0 x 480.0  | FPS: 30.0\n",
      "Resolution: 640.0 x 480.0  | FPS: 30.0\n",
      "Resolution: 640.0 x 480.0  | FPS: 30.0\n",
      "Resolution: 640.0 x 480.0  | FPS: 30.0\n",
      "Resolution: 640.0 x 480.0  | FPS: 30.0\n",
      "Resolution: 640.0 x 480.0  | FPS: 30.0\n",
      "Resolution: 640.0 x 480.0  | FPS: 30.0\n",
      "Resolution: 640.0 x 480.0  | FPS: 30.0\n",
      "Resolution: 640.0 x 480.0  | FPS: 30.0\n",
      "Resolution: 640.0 x 480.0  | FPS: 30.0\n",
      "Resolution: 640.0 x 480.0  | FPS: 30.0\n"
     ]
    }
   ],
   "source": [
    "import cv2\n",
    "\n",
    "# Open a connection to the camera\n",
    "cam = cv2.VideoCapture(0)\n",
    "\n",
    "# Check if the camera opened successfully\n",
    "if not cam.isOpened():\n",
    "    print(\"Error: Could not open camera.\")\n",
    "else:\n",
    "    print(\"Camera opened successfully.\")\n",
    "\n",
    "# Get the properties of the camera\n",
    "width = cam.get(cv2.CAP_PROP_FRAME_WIDTH)\n",
    "height = cam.get(cv2.CAP_PROP_FRAME_HEIGHT)\n",
    "fps = cam.get(cv2.CAP_PROP_FPS)\n",
    "\n",
    "while True:\n",
    "    # Capture a frame from the camera\n",
    "    ret, frame = cam.read()\n",
    "    print(\"Resolution:\", width, \"x\", height, \" | FPS:\", fps)\n",
    "\n",
    "    # Check if the frame is successfully captured\n",
    "    if not ret:\n",
    "        print(\"Failed to grab frame\")\n",
    "        break\n",
    "\n",
    "    # Display the frame\n",
    "    cv2.imshow(\"WebCam\", frame)\n",
    "    \n",
    "    # Exit the loop if the 'z' key is pressed\n",
    "    if cv2.waitKey(1) & 0xFF == ord('z'):\n",
    "        break\n",
    "\n",
    "# Release the camera and close all OpenCV windows\n",
    "cam.release()\n",
    "cv2.destroyAllWindows()\n"
   ]
  },
  {
   "cell_type": "code",
   "execution_count": 2,
   "metadata": {},
   "outputs": [
    {
     "name": "stdout",
     "output_type": "stream",
     "text": [
      "Blue channel: [[255 255 255 ... 255 255 255]\n",
      " [255 255 255 ... 255 255 255]\n",
      " [255 255 255 ... 255 255 255]\n",
      " ...\n",
      " [255 255 255 ... 255 255 255]\n",
      " [255 255 255 ... 255 255 255]\n",
      " [255 255 255 ... 255 255 255]]\n",
      "Green channel: [[255 255 255 ... 255 255 255]\n",
      " [255 255 255 ... 255 255 255]\n",
      " [255 255 255 ... 255 255 255]\n",
      " ...\n",
      " [255 255 255 ... 255 255 255]\n",
      " [255 255 255 ... 255 255 255]\n",
      " [255 255 255 ... 255 255 255]]\n",
      "Red channel: [[255 255 255 ... 255 255 255]\n",
      " [255 255 255 ... 255 255 255]\n",
      " [255 255 255 ... 255 255 255]\n",
      " ...\n",
      " [255 255 255 ... 255 255 255]\n",
      " [255 255 255 ... 255 255 255]\n",
      " [255 255 255 ... 255 255 255]]\n",
      "[[255 255 255 ... 255 255 255]\n",
      " [255 255 255 ... 255 255 255]\n",
      " [255 255 255 ... 255 255 255]\n",
      " ...\n",
      " [255 255 255 ... 255 255 255]\n",
      " [255 255 255 ... 255 255 255]\n",
      " [255 255 255 ... 255 255 255]]\n",
      "[[255 255 255 ... 255 255 255]\n",
      " [255 255 255 ... 255 255 255]\n",
      " [255 255 255 ... 255 255 255]\n",
      " ...\n",
      " [255 255 255 ... 255 255 255]\n",
      " [255 255 255 ... 255 255 255]\n",
      " [255 255 255 ... 255 255 255]]\n",
      "[[255 255 255 ... 255 255 255]\n",
      " [255 255 255 ... 255 255 255]\n",
      " [255 255 255 ... 255 255 255]\n",
      " ...\n",
      " [255 255 255 ... 255 255 255]\n",
      " [255 255 255 ... 255 255 255]\n",
      " [255 255 255 ... 255 255 255]]\n"
     ]
    }
   ],
   "source": [
    "import cv2\n",
    "\n",
    "# Define the path to your image\n",
    "path = r\"R:\\AI Ml\\.ipynb_checkpoints\\Images\\Screenshot 2024-07-18 124841.png\"\n",
    "\n",
    "# Load the image\n",
    "image = cv2.imread(path)\n",
    "\n",
    "# Check if the image was loaded successfully\n",
    "if image is None:\n",
    "    print(\"Error: Image not loaded. Please check the path and the image file.\")\n",
    "else:\n",
    "    # Slice the image to the desired dimensions\n",
    "    new_image = image[:1000, :1000]\n",
    "\n",
    "    # Extract the individual color channels\n",
    "    B = new_image[:, :, 0]\n",
    "    G = new_image[:, :, 1]\n",
    "    R = new_image[:, :, 2]\n",
    "\n",
    "    print('Blue channel:', B)\n",
    "    print('Green channel:', G)\n",
    "    print('Red channel:', R)\n",
    "\n",
    "    # Use cv2.split to split the channels\n",
    "    R, G, B = cv2.split(new_image)\n",
    "    print(B)\n",
    "    print(G)\n",
    "    print(R)\n",
    "\n",
    "    # Merge the channels back\n",
    "    image_merged = cv2.merge([R, G, B])\n",
    "\n",
    "    # Display the merged image\n",
    "    cv2.imshow(\"new_image\", image_merged)\n",
    "    cv2.waitKey(0)\n",
    "    cv2.destroyAllWindows()\n"
   ]
  },
  {
   "cell_type": "code",
   "execution_count": 4,
   "metadata": {},
   "outputs": [],
   "source": [
    "# Go Digit\n",
    "# morning star"
   ]
  }
 ],
 "metadata": {
  "kernelspec": {
   "display_name": "Python 3",
   "language": "python",
   "name": "python3"
  },
  "language_info": {
   "codemirror_mode": {
    "name": "ipython",
    "version": 3
   },
   "file_extension": ".py",
   "mimetype": "text/x-python",
   "name": "python",
   "nbconvert_exporter": "python",
   "pygments_lexer": "ipython3",
   "version": "3.12.1"
  }
 },
 "nbformat": 4,
 "nbformat_minor": 2
}
