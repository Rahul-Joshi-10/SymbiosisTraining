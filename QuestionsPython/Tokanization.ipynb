{
 "cells": [
  {
   "cell_type": "code",
   "execution_count": 3,
   "metadata": {},
   "outputs": [
    {
     "data": {
      "text/plain": [
       "['rahul', 'is', 'a', 'good', 'boi', 'but', 'ajinkya', 'is', 'not']"
      ]
     },
     "execution_count": 3,
     "metadata": {},
     "output_type": "execute_result"
    }
   ],
   "source": [
    "# find count words in sentense\n",
    "\n",
    "import re\n",
    "\n",
    "sentense = 'rahul is a good boi but ajinkya is not'\n",
    "\n",
    "result = re.findall(r'\\w+',sentense)\n",
    "result"
   ]
  },
  {
   "cell_type": "code",
   "execution_count": 26,
   "metadata": {},
   "outputs": [
    {
     "data": {
      "text/plain": [
       "(['1234', '234', '234', '235'],\n",
       " ['1234', 'rahul', 'joshi', 'is234', 'good', 'boi', '234', '235'],\n",
       " ['\\n', 'rahul joshi is', ' good boi ', ' \\n'])"
      ]
     },
     "execution_count": 26,
     "metadata": {},
     "output_type": "execute_result"
    }
   ],
   "source": [
    "pattern_a = r'\\d+'\n",
    "pattern_b = r'\\w+'\n",
    "pattern_c = r'\\D+'\n",
    "a_values = []\n",
    "b_values = []\n",
    "c_values = []\n",
    "\n",
    "\n",
    "with open('config.txt','r') as file:\n",
    "    for line in file:\n",
    "        matches_a = re.findall(pattern_a, line)\n",
    "        matches_b = re.findall(pattern_b, line)\n",
    "        matches_c = re.findall(pattern_c, line)\n",
    "\n",
    "        a_values.extend(matches_a)\n",
    "        b_values.extend(matches_b)\n",
    "        c_values.extend(matches_c)\n",
    "a_values,b_values,c_values"
   ]
  },
  {
   "cell_type": "code",
   "execution_count": 30,
   "metadata": {},
   "outputs": [
    {
     "name": "stdout",
     "output_type": "stream",
     "text": [
      "['f', 'a', 'n', 'f', 'a']\n"
     ]
    }
   ],
   "source": [
    "# [] --> these are used for character function matches any one character out of set of char,they are enclosed in []\n",
    "test = \"fantfastic\"\n",
    "matches = re.findall('[fan]+',test) # check for one specific sub-word\n",
    "matches = re.findall('[fan]',test)\n",
    "print(matches)"
   ]
  }
 ],
 "metadata": {
  "kernelspec": {
   "display_name": "Python 3",
   "language": "python",
   "name": "python3"
  },
  "language_info": {
   "codemirror_mode": {
    "name": "ipython",
    "version": 3
   },
   "file_extension": ".py",
   "mimetype": "text/x-python",
   "name": "python",
   "nbconvert_exporter": "python",
   "pygments_lexer": "ipython3",
   "version": "3.12.1"
  }
 },
 "nbformat": 4,
 "nbformat_minor": 2
}
