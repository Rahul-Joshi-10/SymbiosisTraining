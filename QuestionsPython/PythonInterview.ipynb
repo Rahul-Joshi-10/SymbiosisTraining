{
 "cells": [
  {
   "cell_type": "code",
   "execution_count": 30,
   "metadata": {},
   "outputs": [
    {
     "name": "stdout",
     "output_type": "stream",
     "text": [
      "1836672336000\n",
      "1836672336000\n",
      "(12, 23)\n",
      "1836672347200\n",
      "1836672347200\n",
      "[12, 23, 34, 45, 10]\n"
     ]
    }
   ],
   "source": [
    "# Concepts of mutable and imutable\n",
    "\n",
    "mutable = list([10,20])\n",
    "print(id(mutable))\n",
    "mutable[1] = 20000\n",
    "print(id(mutable))\n",
    "\n",
    "\n",
    "# Can't change the tuples coz its imutable \n",
    "imutable = tuple({12,23})\n",
    "print(imutable)\n",
    "# imutable[1] = 2000         \n",
    "# imutable.append(2300)\n",
    "# def changeTuple(tuple):\n",
    "#     return tuple.append(10)\n",
    "# changeTuple(imutable)\n",
    "# print(imutable)\n",
    "\n",
    "\n",
    "def changeList(list):\n",
    "    print(id(list))\n",
    "    list.append(10)\n",
    "\n",
    "list1=[12,23,34,45]\n",
    "changeList(list1)\n",
    "print(id(list1))\n",
    "print(list1)\n"
   ]
  },
  {
   "cell_type": "code",
   "execution_count": 31,
   "metadata": {},
   "outputs": [
    {
     "name": "stdout",
     "output_type": "stream",
     "text": [
      "24\n",
      "40\n"
     ]
    }
   ],
   "source": [
    "# Memory allocation of list and tuple\n",
    "\n",
    "tuple_var = tuple()\n",
    "print(tuple_var.__sizeof__())\n",
    "# for no element it will take 24 bytes to store object of tuple()\n",
    "\n",
    "tuple_var = (1,2)\n",
    "print(tuple_var.__sizeof__())\n",
    "# after adding 2 elements each element takes 8 bytes \n",
    "# for 2 elements 16 bytes + 24 initial bytes so total 40 bytes\n"
   ]
  },
  {
   "cell_type": "code",
   "execution_count": 32,
   "metadata": {},
   "outputs": [
    {
     "name": "stdout",
     "output_type": "stream",
     "text": [
      "[1, 2, 3]\n",
      "1836671629120\n",
      "104\n",
      "[1, 2, 3]\n",
      "1836668875136\n",
      "72\n"
     ]
    }
   ],
   "source": [
    "old_list = [1,2]\n",
    "old_list.append(3)\n",
    "print(old_list)\n",
    "print(id(old_list))\n",
    "print(old_list.__sizeof__())\n",
    "\n",
    "# create new list using old_list\n",
    "\n",
    "new_list = list(old_list)\n",
    "print(new_list)\n",
    "print(id(new_list))\n",
    "print(new_list.__sizeof__())"
   ]
  },
  {
   "cell_type": "code",
   "execution_count": 33,
   "metadata": {},
   "outputs": [
    {
     "name": "stdout",
     "output_type": "stream",
     "text": [
      "A TypeError occurred: You tried to divide by a non-numeric type.\n",
      "The division was successful, result: 0\n"
     ]
    }
   ],
   "source": [
    "# Try catch errors\n",
    "result=0\n",
    "try:\n",
    "    # This block contains code that might cause an exception.\n",
    "    num1 = 10\n",
    "    num2 = \"2\"  # This will cause a TypeError when trying to perform division\n",
    "    result = num1 / num2\n",
    "\n",
    "except TypeError:\n",
    "    # This block contains code that might cause an exception.\n",
    "    print(\"A TypeError occurred: You tried to divide by a non-numeric type.\")\n",
    "\n",
    "else:\n",
    "    # This block executes if no exceptions were raised in the \"TRY\" block.\n",
    "    print(\"The division was successful, result:\", result)\n",
    "\n",
    "finally:\n",
    "    # This block executes no matter what \n",
    "    print(\"The division was successful, result:\", result)"
   ]
  },
  {
   "cell_type": "code",
   "execution_count": 34,
   "metadata": {},
   "outputs": [
    {
     "name": "stdout",
     "output_type": "stream",
     "text": [
      "32\n"
     ]
    },
    {
     "data": {
      "text/plain": [
       "34"
      ]
     },
     "execution_count": 34,
     "metadata": {},
     "output_type": "execute_result"
    }
   ],
   "source": [
    "def sum(a,b,c=10):\n",
    "    return a+b+c\n",
    "print(sum(10,12))\n",
    "sum(10,12,c=12)"
   ]
  },
  {
   "cell_type": "code",
   "execution_count": 35,
   "metadata": {},
   "outputs": [
    {
     "name": "stdout",
     "output_type": "stream",
     "text": [
      "1\n",
      "2\n",
      "3\n",
      "4\n"
     ]
    }
   ],
   "source": [
    "# Generator these are good for calculating large sets of results where you don't know if you are going to need all results or not or wheather you dont want to allocate memory for all results\n",
    "\n",
    "def searchFunction(item,list1):\n",
    "    for item in range(len(list1)-1):\n",
    "        yield list1[item]\n",
    "    return\n",
    "\n",
    "list1 = [1,2,3,4,1,12,2,2,3,1,1]\n",
    "generator_object = searchFunction(1,list1)\n",
    "print(generator_object.__next__())\n",
    "print(generator_object.__next__())\n",
    "print(generator_object.__next__())\n",
    "print(generator_object.__next__())"
   ]
  },
  {
   "cell_type": "code",
   "execution_count": 36,
   "metadata": {},
   "outputs": [
    {
     "ename": "SyntaxError",
     "evalue": "expected ':' (1955423350.py, line 6)",
     "output_type": "error",
     "traceback": [
      "\u001b[1;36m  Cell \u001b[1;32mIn[36], line 6\u001b[1;36m\u001b[0m\n\u001b[1;33m    except ZeroDivisionError\u001b[0m\n\u001b[1;37m                            ^\u001b[0m\n\u001b[1;31mSyntaxError\u001b[0m\u001b[1;31m:\u001b[0m expected ':'\n"
     ]
    }
   ],
   "source": [
    "while True:\n",
    "    try:\n",
    "        x= 10\n",
    "        y=0\n",
    "        result = x/y\n",
    "    except ZeroDivisionError\n",
    "    else:\n",
    "        print(\"Your ressult is \",result)\n",
    "\n",
    "    except ZeroDivisionError:\n",
    "        print(\"OOpss! that was no valid number....\")\n",
    "    finally:\n",
    "        print(\"execution funally caused\")\n",
    "\n",
    "\n",
    "# Companay\n",
    "# dolat capital\n",
    "# MAQ \n",
    "# Quantiphi\n",
    "# MorningStar"
   ]
  },
  {
   "cell_type": "code",
   "execution_count": null,
   "metadata": {},
   "outputs": [
    {
     "name": "stdout",
     "output_type": "stream",
     "text": [
      "B\n",
      "C\n",
      "D\n",
      "B\n",
      "B\n",
      "B\n"
     ]
    }
   ],
   "source": [
    "class B(Exception):\n",
    "    pass\n",
    "\n",
    "class C(B):\n",
    "    pass\n",
    "\n",
    "class D(C):\n",
    "    pass\n",
    "\n",
    "\n",
    "for cls in [B,C,D]:\n",
    "    try:\n",
    "        raise cls()\n",
    "    except D:\n",
    "        print(\"D\")\n",
    "    except C:\n",
    "        print(\"C\")\n",
    "    except B:\n",
    "        print(\"B\")\n",
    "\n",
    "# Here we are changing the raise order \n",
    "for cls in [B,C,D]:\n",
    "    try:\n",
    "        raise cls()\n",
    "    except B:\n",
    "        print(\"B\")\n",
    "    except D:\n",
    "        print(\"D\")\n",
    "    except C:\n",
    "        print(\"C\")\n",
    "\n"
   ]
  },
  {
   "cell_type": "markdown",
   "metadata": {},
   "source": [
    "#### Types of Built-in Exceptions done or raised at compile time\n",
    "\n",
    "1. syntax error : when there is error in syntax error\n",
    "\n",
    "2. Value error : raised when buit-in method or operation recives an argument that has right datatype but mismatched value\n",
    "\n",
    "3. IOError : taking input from user then this can happens\n",
    "\n",
    "4. KeyboardInterrupt : It is raised when the user accidentally hits the Delete or Esc key\n",
    "while executing a program due to which the normal flow of the\n",
    "program is interrupted.\n",
    "5. ImportError : It is raised when the requested module definition is not found.\n",
    "6. EOFError : It is raised when the end of file condition is reached without reading\n",
    "any data by input().\n",
    "7. ZeroDivisionError : It is raised when the denominator in a division operation is zero.\n",
    "8. IndexError : It is raised when the index or subscript in a sequence is out of range.\n",
    "9. NameError : It is raised when a local or global variable name is not defined.\n",
    "10. IndentationError : It is raised due to incorrect indentation in the program code.\n",
    "11. TypeError : It is raised when an operator is supplied with a value of incorrect\n",
    "data type.\n",
    "12. OverFlowError : It is raised when the result of a calculation exceeds the maximum\n",
    "limit for numeric data type."
   ]
  },
  {
   "cell_type": "code",
   "execution_count": null,
   "metadata": {},
   "outputs": [
    {
     "ename": "IndexError",
     "evalue": "",
     "output_type": "error",
     "traceback": [
      "\u001b[1;31m---------------------------------------------------------------------------\u001b[0m",
      "\u001b[1;31mIndexError\u001b[0m                                Traceback (most recent call last)",
      "Cell \u001b[1;32mIn[7], line 4\u001b[0m\n\u001b[0;32m      2\u001b[0m length \u001b[38;5;241m=\u001b[39m \u001b[38;5;241m10\u001b[39m\n\u001b[0;32m      3\u001b[0m \u001b[38;5;28;01mif\u001b[39;00m length\u001b[38;5;241m>\u001b[39m\u001b[38;5;28mlen\u001b[39m(number):\n\u001b[1;32m----> 4\u001b[0m     \u001b[38;5;28;01mraise\u001b[39;00m \u001b[38;5;167;01mIndexError\u001b[39;00m\n\u001b[0;32m      5\u001b[0m     \u001b[38;5;28mprint\u001b[39m(\u001b[38;5;124m\"\u001b[39m\u001b[38;5;124mNO Exsecution..\u001b[39m\u001b[38;5;124m\"\u001b[39m)\n\u001b[0;32m      6\u001b[0m \u001b[38;5;28;01melse\u001b[39;00m:\n",
      "\u001b[1;31mIndexError\u001b[0m: "
     ]
    }
   ],
   "source": [
    "number = [12,23,34,45]\n",
    "length = 10\n",
    "if length>len(number):\n",
    "    raise IndexError\n",
    "    print(\"NO Exsecution..\")\n",
    "else:\n",
    "    print(length)\n"
   ]
  },
  {
   "cell_type": "code",
   "execution_count": null,
   "metadata": {},
   "outputs": [
    {
     "name": "stdout",
     "output_type": "stream",
     "text": [
      "use of assert statement\n",
      "100\n"
     ]
    },
    {
     "ename": "AssertionError",
     "evalue": "",
     "output_type": "error",
     "traceback": [
      "\u001b[1;31m---------------------------------------------------------------------------\u001b[0m",
      "\u001b[1;31mAssertionError\u001b[0m                            Traceback (most recent call last)",
      "Cell \u001b[1;32mIn[14], line 9\u001b[0m\n\u001b[0;32m      6\u001b[0m     \u001b[38;5;28mprint\u001b[39m(number)\n\u001b[0;32m      8\u001b[0m negativecheck(\u001b[38;5;241m100\u001b[39m)\n\u001b[1;32m----> 9\u001b[0m \u001b[43mnegativecheck\u001b[49m\u001b[43m(\u001b[49m\u001b[38;5;241;43m-\u001b[39;49m\u001b[38;5;241;43m100\u001b[39;49m\u001b[43m)\u001b[49m\n",
      "Cell \u001b[1;32mIn[14], line 5\u001b[0m, in \u001b[0;36mnegativecheck\u001b[1;34m(number)\u001b[0m\n\u001b[0;32m      4\u001b[0m \u001b[38;5;28;01mdef\u001b[39;00m \u001b[38;5;21mnegativecheck\u001b[39m(number):\n\u001b[1;32m----> 5\u001b[0m     \u001b[38;5;28;01massert\u001b[39;00m(number\u001b[38;5;241m>\u001b[39m\u001b[38;5;241m=\u001b[39m\u001b[38;5;241m0\u001b[39m)\n\u001b[0;32m      6\u001b[0m     \u001b[38;5;28mprint\u001b[39m(number)\n",
      "\u001b[1;31mAssertionError\u001b[0m: "
     ]
    }
   ],
   "source": [
    "# Assert Keyword\n",
    "\n",
    "print(\"use of assert statement\")\n",
    "def negativecheck(number):\n",
    "    assert(number>=0)\n",
    "    print(number)\n",
    "\n",
    "# give error when passing to function assert will check the condition if False then raise exception\n",
    "# negativecheck(100)\n",
    "# negativecheck(-100)"
   ]
  },
  {
   "cell_type": "markdown",
   "metadata": {},
   "source": [
    "Defination of Exception :\n",
    "* Writing the additional code in program to give proper instructions to user for encountering exceptions knows as exeption handling the process is also known as exception handling\n",
    "* Used to handle runtime errors handling them so to avoid termination of program\n",
    "* When an exception occurs while excecuting a perticular program, statment jumps to an exception handler abandoning exection of remaining program statements \n",
    "* The runtime system searches the entire program for a block of code, called the exception handler that can handle the raised exception (runs in reverse order untill it got the exception )\n",
    "* This hirarchical search in reverse order continues till the exception handler is found. this entire list of methods is known as \"CALL STACK\" when suitable handler is found in call stack it is exceuted by the runtime proccess\n",
    "\n",
    "<img src=\"../Images/Screenshot 2024-07-18 124841.png\" height=20%></img>"
   ]
  },
  {
   "cell_type": "code",
   "execution_count": null,
   "metadata": {},
   "outputs": [
    {
     "name": "stdout",
     "output_type": "stream",
     "text": [
      "Handling exceptions without naming them\n",
      "Division performed successfully\n"
     ]
    }
   ],
   "source": [
    "print (\"Handling exceptions without naming them\")\n",
    "try:\n",
    " numerator=50\n",
    " denom=int(input(\"Enter the denominator\"))\n",
    " quotient=(numerator/denom)\n",
    " print (\"Division performed successfully\")\n",
    "except ValueError:\n",
    " print (\"Only INTEGERS should be entered\")\n",
    "except ZeroDivisionError:\n",
    " print(\"Zero is encountered\")\n",
    "except:\n",
    " print(\" OOPS.....SOME EXCEPTION RAISED\")"
   ]
  },
  {
   "cell_type": "code",
   "execution_count": null,
   "metadata": {},
   "outputs": [
    {
     "name": "stdout",
     "output_type": "stream",
     "text": [
      "Practicing for try block\n",
      "Denominator as ZERO.... not allowed\n",
      "OUTSIDE try..except block\n"
     ]
    }
   ],
   "source": [
    "print (\"Practicing for try block\")\n",
    "try:\n",
    "    numerator=50\n",
    "    denom=int(input(\"Enter the denominator\"))\n",
    "    quotient=(numerator/denom)\n",
    "    print(quotient)\n",
    "    print (\"Division performed successfully\")\n",
    "except ZeroDivisionError:\n",
    "    print (\"Denominator as ZERO.... not allowed\")\n",
    "print(\"OUTSIDE try..except block\")"
   ]
  },
  {
   "cell_type": "markdown",
   "metadata": {},
   "source": [
    "#### finally is used at end generally used to close the file object \n",
    "#### finally will always excecuted if error happen or not "
   ]
  },
  {
   "cell_type": "code",
   "execution_count": null,
   "metadata": {},
   "outputs": [
    {
     "name": "stdout",
     "output_type": "stream",
     "text": [
      "Handling exceptions without naming them\n",
      "Zero is encountered\n"
     ]
    }
   ],
   "source": [
    "print (\"Handling exceptions without naming them\")\n",
    "try:\n",
    " numerator=50\n",
    " denom=int(input(\"Enter the denominator\"))\n",
    " quotient=(numerator/denom)\n",
    " print (\"Division performed successfully\")\n",
    "except ValueError:\n",
    " print (\"Only INTEGERS should be entered\")\n",
    "except ZeroDivisionError:\n",
    " print(\"Zero is encountered\")\n",
    "else: # excecute when error is not encountered\n",
    " print(\"this is else part...\")"
   ]
  },
  {
   "cell_type": "code",
   "execution_count": null,
   "metadata": {},
   "outputs": [
    {
     "name": "stdout",
     "output_type": "stream",
     "text": [
      "Handling exceptions without naming them\n",
      "Only INTEGERS should be entered\n",
      "this is finally part...\n"
     ]
    }
   ],
   "source": [
    "print (\"Handling exceptions without naming them\")\n",
    "try:\n",
    " numerator=50\n",
    " denom=int(input(\"Enter the denominator\"))\n",
    " quotient=(numerator/denom)\n",
    " print (\"Division performed successfully\")\n",
    "except ValueError:\n",
    " print (\"Only INTEGERS should be entered\")\n",
    "except ZeroDivisionError:\n",
    " print(\"Zero is encountered\")\n",
    "finally: # excecute when error is not encountered\n",
    " print(\"this is finally part...\")"
   ]
  },
  {
   "cell_type": "code",
   "execution_count": null,
   "metadata": {},
   "outputs": [
    {
     "name": "stdout",
     "output_type": "stream",
     "text": [
      "Learning Exceptions...\n",
      "Please Enter numbers not other char\n",
      "have a good day...\n"
     ]
    }
   ],
   "source": [
    "print(\"Learning Exceptions...\")\n",
    "try:\n",
    "    x = int(input(\"Enter first number\"))\n",
    "    y = int(input(\"Enter second number\"))\n",
    "    result = x/y\n",
    "    print(\"Both the numbers entered were correct\")\n",
    "except ValueError:\n",
    "    print(\"Please Enter numbers not other char\")\n",
    "\n",
    "except ZeroDivisionError:\n",
    "    print(\"Can't devide by zerooo.....\")\n",
    "\n",
    "else:\n",
    "    print(\"Your a good programer\")\n",
    "\n",
    "finally:\n",
    "    print(\"have a good day...\")"
   ]
  },
  {
   "cell_type": "code",
   "execution_count": null,
   "metadata": {},
   "outputs": [
    {
     "name": "stdout",
     "output_type": "stream",
     "text": [
      "6 8 10 12 14 16 18 100 \n",
      "12 10 8 6 14 16 18 100 \n",
      "6 8 10 100 18 16 14 12 \n"
     ]
    },
    {
     "data": {
      "text/plain": [
       "12"
      ]
     },
     "execution_count": 10,
     "metadata": {},
     "output_type": "execute_result"
    }
   ],
   "source": [
    "class BinaryTree:\n",
    "    def __init__(self,data):\n",
    "        self.data = data\n",
    "        self.right = None\n",
    "        self.left  = None        \n",
    "\n",
    "    def preOrder(self,root):\n",
    "        if root:\n",
    "            print(root.data,end=\" \")\n",
    "            self.preOrder(root.left)\n",
    "            self.preOrder(root.right)\n",
    "\n",
    "    def postOrder(self,root):\n",
    "        if root:\n",
    "            self.postOrder(root.left)\n",
    "            self.postOrder(root.right)\n",
    "            print(root.data,end=\" \")\n",
    "\n",
    "    def inOrder(self,root):\n",
    "        if root:\n",
    "            self.inOrder(root.left)\n",
    "            print(root.data,end=\" \")\n",
    "            self.inOrder(root.right)\n",
    "\n",
    "    def insertNode(self,data):\n",
    "        if self.data:\n",
    "            if data<self.data:\n",
    "                if self.left is None:\n",
    "                    self.left = BinaryTree(data)\n",
    "                else:\n",
    "                    self.left.insertNode(data)\n",
    "\n",
    "            elif data>self.data:\n",
    "                if self.right is None:\n",
    "                    self.right = BinaryTree(data)\n",
    "                else:\n",
    "                    self.right.insertNode(data)\n",
    "        else:\n",
    "            self.data = data\n",
    "\n",
    "    def smllestNum(root,self):\n",
    "        if root:\n",
    "            self.postOrder(root.left)\n",
    "            self.postOrder(root.right)\n",
    "            return root.data\n",
    "\n",
    "\n",
    "\n",
    "root = BinaryTree(12)\n",
    "root.insertNode(10)\n",
    "root.insertNode(14)\n",
    "root.insertNode(16)\n",
    "root.insertNode(18)\n",
    "root.insertNode(8)\n",
    "root.insertNode(6)\n",
    "root.insertNode(100)\n",
    "root.inOrder(root)\n",
    "print()\n",
    "root.preOrder(root)\n",
    "print()\n",
    "root.postOrder(root)\n",
    "print()\n",
    "root.smllestNum(root)\n",
    "\n"
   ]
  },
  {
   "cell_type": "code",
   "execution_count": null,
   "metadata": {},
   "outputs": [
    {
     "name": "stdout",
     "output_type": "stream",
     "text": [
      "10 20 100 17 30 23 43 "
     ]
    }
   ],
   "source": [
    "class Node:\n",
    "    def __init__(self,data):\n",
    "        self.data = data\n",
    "        self.left = None\n",
    "        self.right = None\n",
    "        self.list1 = []\n",
    "\n",
    "def inOrder(root):\n",
    "    if root.left:\n",
    "        inOrder(root.left)\n",
    "    print(root.data, end=\" \")\n",
    "    if root.right:\n",
    "        inOrder(root.right)\n",
    "\n",
    "\n",
    "def ConstructTree(arr, left, right):\n",
    "    if left > right:\n",
    "        return None\n",
    "    mid = (left + right) // 2\n",
    "    root = Node(arr[mid])\n",
    "    root.left = ConstructTree(arr, left, mid - 1)\n",
    "    root.right = ConstructTree(arr, mid + 1, right)\n",
    "    return root\n",
    "\n",
    "arr = [10,20,100,17,30,23,43]\n",
    "root = ConstructTree(arr,0,len(arr)-1)\n",
    "inOrder(root)\n",
    "\n"
   ]
  },
  {
   "cell_type": "code",
   "execution_count": 43,
   "metadata": {},
   "outputs": [
    {
     "name": "stdout",
     "output_type": "stream",
     "text": [
      "15 10 20 5 7 18 15 10 5 7 20 18 \n",
      "15 10 5 7 20 18 "
     ]
    }
   ],
   "source": [
    "# BFS breath frist search\n",
    "    \n",
    "from collections import deque\n",
    "class Node:\n",
    "    def __init__(self,data):\n",
    "        self.data = data\n",
    "        self.left = None\n",
    "        self.right = None\n",
    "\n",
    "def BFS(root):\n",
    "    if root is None:\n",
    "        return\n",
    "\n",
    "    queue = deque([root])\n",
    "\n",
    "    while queue:\n",
    "        node = queue.popleft()\n",
    "        print(node.data,end=\" \")\n",
    "\n",
    "        if node.left:\n",
    "            queue.append(node.left)\n",
    "        if node.right:\n",
    "            queue.append(node.right)\n",
    "\n",
    "\n",
    "def BFS_Recursive(root):\n",
    "    if root is None:\n",
    "        return\n",
    "    print(root.data,end=\" \")\n",
    "\n",
    "    if root.left:\n",
    "        BFS_Recursive(root.left)\n",
    "    if root.right:\n",
    "        BFS_Recursive(root.right)\n",
    "\n",
    "\n",
    "def BFS_iterative(root):\n",
    "    if root is None:\n",
    "        return\n",
    "    stackk = []\n",
    "    stackk.append(root)\n",
    "\n",
    "    while len(stackk)>0:\n",
    "        node = stackk.pop()\n",
    "        print(node.data,end=\" \")\n",
    "\n",
    "        if node.right is not None:\n",
    "            stackk.append(node.right)\n",
    "        if node.left is not None:\n",
    "            stackk.append(node.left)\n",
    "\n",
    "root = Node(15)\n",
    "root.left = Node(10)\n",
    "root.right = Node(20)\n",
    "root.left.left = Node(5)\n",
    "root.left.right = Node(7)\n",
    "root.right.left = Node(18)\n",
    "BFS(root)\n",
    "BFS_Recursive(root)\n",
    "print()\n",
    "BFS_iterative(root)\n",
    "\n"
   ]
  },
  {
   "cell_type": "code",
   "execution_count": 40,
   "metadata": {},
   "outputs": [
    {
     "name": "stdout",
     "output_type": "stream",
     "text": [
      "<__main__.Node object at 0x000001ABA19BA210>\n",
      "15\n",
      "10\n",
      "5\n",
      "7\n",
      "20\n",
      "18\n",
      "\n"
     ]
    }
   ],
   "source": [
    "class Node:\n",
    "    def __init__(self,data):\n",
    "        self.data = data\n",
    "        self.left = None\n",
    "        self.right = None\n",
    "\n",
    "def BFS_queue(root):\n",
    "    queue = deque([root])\n",
    "    decorator(root,queue)\n",
    "    while queue:\n",
    "        print(queue.popleft())\n",
    "\n",
    "def decorator(root,queue):\n",
    "    if root is None:\n",
    "        return\n",
    "    queue.append(root.data)\n",
    "    if root.left:\n",
    "        decorator(root.left,queue)\n",
    "    if root.right:\n",
    "        decorator(root.right,queue)\n",
    "\n",
    "\n",
    "root = Node(15)\n",
    "root.left = Node(10)\n",
    "root.right = Node(20)\n",
    "root.left.left = Node(5)\n",
    "root.left.right = Node(7)\n",
    "root.right.left = Node(18)\n",
    "BFS_queue(root)\n",
    "print()"
   ]
  },
  {
   "cell_type": "code",
   "execution_count": 16,
   "metadata": {},
   "outputs": [
    {
     "name": "stdout",
     "output_type": "stream",
     "text": [
      "BCDA\n",
      "CDAB\n"
     ]
    },
    {
     "data": {
      "text/plain": [
       "True"
      ]
     },
     "execution_count": 16,
     "metadata": {},
     "output_type": "execute_result"
    }
   ],
   "source": [
    "# Check if the two string are same ? if 2nd string can or goal string can be obtained by doing n left shift of frist string\n",
    "# Example : Goal string : \"ABCDE\"\n",
    "# input : \"BCDEA\"\n",
    "\n",
    "def fun(ipstring,goal,i):\n",
    "    if len(goal) == i or len(goal) != len(ipstring):\n",
    "        return False\n",
    "    \n",
    "    if ipstring == goal:\n",
    "        return True\n",
    "\n",
    "    temp = \"\"\n",
    "    temp = ipstring[1:]+ipstring[0]\n",
    "    print(temp)\n",
    "    return fun(temp,goal,i+1)\n",
    "\n",
    "str = \"ABCD\"\n",
    "goal = \"CDAB\"\n",
    "fun(str,goal,0)\n",
    "\n",
    "\n"
   ]
  },
  {
   "cell_type": "code",
   "execution_count": 41,
   "metadata": {},
   "outputs": [
    {
     "data": {
      "text/plain": [
       "6"
      ]
     },
     "execution_count": 41,
     "metadata": {},
     "output_type": "execute_result"
    }
   ],
   "source": [
    "# Given a list are numbers and single number in target create a logic when sum of 3 nos from list is closest to target\n",
    "# print those three numbers\n",
    "\n",
    "\n",
    "def fun23(arr,target):\n",
    "    # arr.sort()\n",
    "    i=0\n",
    "    j = len(arr)-1\n",
    "    list1 = []\n",
    "    test = []\n",
    "    closest = 0\n",
    "    while (j != i):\n",
    "        for k in range(i+1,j):\n",
    "            temp = arr[k]+arr[i]+arr[j]\n",
    "            test.append(temp)\n",
    "        j=j-1\n",
    "    # print(test)\n",
    "zA\n",
    "\n",
    "arr = [1,2,3,4,5,6]\n",
    "fun23(arr,15)\n",
    "\n",
    "\n"
   ]
  },
  {
   "cell_type": "code",
   "execution_count": 48,
   "metadata": {},
   "outputs": [
    {
     "data": {
      "text/plain": [
       "5"
      ]
     },
     "execution_count": 48,
     "metadata": {},
     "output_type": "execute_result"
    }
   ],
   "source": [
    "def fun(str):\n",
    "    i=0\n",
    "    j=0\n",
    "    maxlen = 0\n",
    "    list1 = []\n",
    "    # string = \"\"\n",
    "    while(j<len(str)):\n",
    "        if str[j] in list1:\n",
    "            maxlen = max(maxlen, len(list1))\n",
    "            i = j\n",
    "            # string = \"\"\n",
    "            list1 = []\n",
    "        # string+=str[j]\n",
    "        list1.append(str[j])\n",
    "        j+=1\n",
    "\n",
    "    return maxlen\n",
    "\n",
    "fun(\"AABCDRA\")\n",
    "list.sort()\n",
    "             "
   ]
  },
  {
   "cell_type": "code",
   "execution_count": null,
   "metadata": {},
   "outputs": [],
   "source": []
  }
 ],
 "metadata": {
  "kernelspec": {
   "display_name": "Python 3",
   "language": "python",
   "name": "python3"
  },
  "language_info": {
   "codemirror_mode": {
    "name": "ipython",
    "version": 3
   },
   "file_extension": ".py",
   "mimetype": "text/x-python",
   "name": "python",
   "nbconvert_exporter": "python",
   "pygments_lexer": "ipython3",
   "version": "3.12.1"
  }
 },
 "nbformat": 4,
 "nbformat_minor": 2
}
