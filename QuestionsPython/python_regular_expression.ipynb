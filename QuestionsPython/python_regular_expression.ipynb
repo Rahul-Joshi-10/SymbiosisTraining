{
 "cells": [
  {
   "cell_type": "code",
   "execution_count": 2,
   "metadata": {},
   "outputs": [],
   "source": [
    "    # when data is big then we prefer the regular expression to compare string which will satisfy our constrains\n",
    "    import re"
   ]
  },
  {
   "cell_type": "code",
   "execution_count": 3,
   "metadata": {},
   "outputs": [
    {
     "name": "stdout",
     "output_type": "stream",
     "text": [
      "<re.Match object; span=(0, 36), match='rahul is good boi but ajinkya is not'>\n",
      "rahul is good boi but ajinkya is not\n",
      "rahul is good boi\n",
      "ajinkya\n"
     ]
    }
   ],
   "source": [
    "line = \"rahul is good boi but ajinkya is not\"\n",
    "# re.M = Multiline\n",
    "# re.I = Ignore case\n",
    "matchObj = re.match( r'(.*) but (.*?) .*', line, re.M | re.I)\n",
    "print(matchObj) \n",
    "print(matchObj.group(0))\n",
    "print(matchObj.group(1))\n",
    "print(matchObj.group(2))"
   ]
  },
  {
   "cell_type": "code",
   "execution_count": 4,
   "metadata": {},
   "outputs": [],
   "source": [
    "# match vs search\n",
    "# match will check the pattern at start of the string\n",
    "# search will check at any position"
   ]
  },
  {
   "cell_type": "code",
   "execution_count": 5,
   "metadata": {},
   "outputs": [
    {
     "name": "stdout",
     "output_type": "stream",
     "text": [
      "no match....\n",
      "cats\n"
     ]
    }
   ],
   "source": [
    "line  = \"dogs are smarter then cats\"\n",
    "# re.I = case sensitive \n",
    "obj = re.match(r'cats',line)\n",
    "if obj:\n",
    "    print(obj.group())\n",
    "else:\n",
    "    print(\"no match....\")\n",
    "obj = re.search(r'cats',line)\n",
    "if obj:\n",
    "    print(obj.group())\n",
    "else:\n",
    "    print(\"no match....\")\n"
   ]
  },
  {
   "cell_type": "markdown",
   "metadata": {},
   "source": [
    "* re.I Performs case-insensitive matching .\n",
    "*  re.L Interprets words according to the currentlocale. This interpretationaffects the\n",
    "*  alphabetic g roup (\\w and \\W), as well as word boundary behavior (\\b and \\B).\n",
    "*  re.M Makes $ matchthe end of a line (notjustthe end of the string ) and makes ^ match\n",
    "*  the start of any line (notjustthe start of the string ).\n",
    "*  re.S Makes a period (dot) matchany character, including a newline.\n",
    "*  re.U Interprets letters according to the Unicode character set. This flag affects the\n",
    "*  behavior of \\w, \\W, \\b, \\B.\n",
    "*  re.X Permits \"cuter\" regular expressionsyntax. Itignores whitespace (exceptinside\n",
    "*  a set[] or whenescaped by a backslash) and treats unescaped # as a comment\n",
    "*  marker."
   ]
  },
  {
   "cell_type": "markdown",
   "metadata": {},
   "source": [
    "* [Pp]ython Match\"Python\" or \"python\"\n",
    "* rub[ye] Match\"ruby\" or \"rube\"\n",
    "* [aeiou] Matchany one lowercase vowel\n",
    "* [0-9] Matchany dig it; same as [0123456789]\n",
    "* [a-z] Matchany lowercase ASCIIletter\n",
    "* [A-Z] Matchany uppercase ASCIIletter\n",
    "* [a-zA-Z0-9] Matchany of the above\n",
    "* [^aeiou] Matchanything other thana lowercase vowel\n",
    "* [^0-9] Matchanything other thana dig it"
   ]
  },
  {
   "cell_type": "code",
   "execution_count": 6,
   "metadata": {},
   "outputs": [
    {
     "name": "stdout",
     "output_type": "stream",
     "text": [
      "123-456-7890 # this is a phone number\n",
      "123-456-7890 \n",
      "-- # this is a phone number\n",
      "1234567890\n"
     ]
    }
   ],
   "source": [
    "phone = \"123-456-7890 # this is a phone number\"\n",
    "print(phone)\n",
    "# $ is indicates end of the line\n",
    "num = re.sub(r'#.*$',\"\",phone)\n",
    "print(num)\n",
    "\n",
    "# keep digits only\n",
    "num = re.sub(r'\\d',\"\",phone)\n",
    "print(num)\n",
    "num = re.sub(r'\\D',\"\",phone)\n",
    "print(num)"
   ]
  },
  {
   "cell_type": "code",
   "execution_count": 7,
   "metadata": {},
   "outputs": [
    {
     "name": "stdout",
     "output_type": "stream",
     "text": [
      "rahulj1280gmailcom\n",
      "sujalj1280@gmail.com\n"
     ]
    }
   ],
   "source": [
    "# write prog for given string if there is noise in form of speacial characters remove that noise and print other things\n",
    "arr = ['!','@','#','$','%','^','&','*','<','>','~','(',')','{','}','-','+','=',',','.','/','?',';',':']\n",
    "temp = \"\"\n",
    "str1 = \"rahulj1280@gmail.com\"\n",
    "for i in str1:\n",
    "    if i not in arr:\n",
    "        temp+=i\n",
    "\n",
    "print(temp)\n",
    "\n",
    "\n",
    "str1 = \"rahulj1280@gmail.com\"\n",
    "# '^'---> include\n",
    "obj = re.sub(r'rahul',\"sujal\",str1)\n",
    "# obj = re.sub(r'rahul',\"\",str1)\n",
    "print(obj)\n"
   ]
  },
  {
   "cell_type": "code",
   "execution_count": 8,
   "metadata": {},
   "outputs": [
    {
     "name": "stderr",
     "output_type": "stream",
     "text": [
      "<>:4: SyntaxWarning: invalid escape sequence '\\w'\n",
      "<>:4: SyntaxWarning: invalid escape sequence '\\w'\n",
      "C:\\Users\\91738\\AppData\\Local\\Temp\\ipykernel_16204\\2563636066.py:4: SyntaxWarning: invalid escape sequence '\\w'\n",
      "  pattern = '\\w+'\n"
     ]
    },
    {
     "name": "stdout",
     "output_type": "stream",
     "text": [
      "['hello', '12', 'hi', '89', 'Howdy', '34']\n"
     ]
    }
   ],
   "source": [
    "# program to extract number form string\n",
    "import requests\n",
    "string = 'hello 12 hi 89, Howdy 34'\n",
    "pattern = '\\w+'\n",
    "# w which means'[^A-Za-z0-9]'\n",
    "# D which means'[A-Za-z]'\n",
    "# d which means include all numrical\n",
    "# characters along with puchuation mark\n",
    "result = re.findall(pattern,string)\n",
    "print(result)"
   ]
  },
  {
   "cell_type": "code",
   "execution_count": 9,
   "metadata": {},
   "outputs": [
    {
     "name": "stdout",
     "output_type": "stream",
     "text": [
      "['', '', '', '', '', '', ':', '', ' ', '', '', '', '', '', ' ', '', '', '', ':', '', '']\n"
     ]
    },
    {
     "name": "stderr",
     "output_type": "stream",
     "text": [
      "<>:2: SyntaxWarning: invalid escape sequence '\\d'\n",
      "<>:3: SyntaxWarning: invalid escape sequence '\\w'\n",
      "<>:2: SyntaxWarning: invalid escape sequence '\\d'\n",
      "<>:3: SyntaxWarning: invalid escape sequence '\\w'\n",
      "C:\\Users\\91738\\AppData\\Local\\Temp\\ipykernel_16204\\1829395315.py:2: SyntaxWarning: invalid escape sequence '\\d'\n",
      "  pattern = '\\d'\n",
      "C:\\Users\\91738\\AppData\\Local\\Temp\\ipykernel_16204\\1829395315.py:3: SyntaxWarning: invalid escape sequence '\\w'\n",
      "  pattern = '\\w'\n"
     ]
    }
   ],
   "source": [
    "string = \"tienty:20 Eighty nine:89\"\n",
    "pattern = '\\d'\n",
    "pattern = '\\w'\n",
    "result = re.split(pattern,string)\n",
    "print(result)"
   ]
  },
  {
   "cell_type": "code",
   "execution_count": 10,
   "metadata": {},
   "outputs": [
    {
     "name": "stdout",
     "output_type": "stream",
     "text": [
      "2\n"
     ]
    },
    {
     "name": "stderr",
     "output_type": "stream",
     "text": [
      "<>:2: SyntaxWarning: invalid escape sequence '\\d'\n",
      "<>:2: SyntaxWarning: invalid escape sequence '\\d'\n",
      "C:\\Users\\91738\\AppData\\Local\\Temp\\ipykernel_16204\\487133789.py:2: SyntaxWarning: invalid escape sequence '\\d'\n",
      "  pattern = '\\d+'\n"
     ]
    }
   ],
   "source": [
    "string = \"tienty:20 Eighty nine:89\"\n",
    "pattern = '\\d+'\n",
    "maxsplit = 1\n",
    "result = re.split(pattern,string,maxsplit)\n",
    "print(len(result))"
   ]
  },
  {
   "cell_type": "code",
   "execution_count": 11,
   "metadata": {},
   "outputs": [
    {
     "name": "stdout",
     "output_type": "stream",
     "text": [
      "abc12de23f456\n"
     ]
    },
    {
     "name": "stderr",
     "output_type": "stream",
     "text": [
      "<>:6: SyntaxWarning: invalid escape sequence '\\s'\n",
      "<>:6: SyntaxWarning: invalid escape sequence '\\s'\n",
      "C:\\Users\\91738\\AppData\\Local\\Temp\\ipykernel_16204\\3740053484.py:6: SyntaxWarning: invalid escape sequence '\\s'\n",
      "  pattern = '\\s+'\n"
     ]
    }
   ],
   "source": [
    "# multiline string\n",
    "string = 'abc 12\\\n",
    "    de 23 \\n f45 6'\n",
    "    \n",
    "# match all white spaces characters\n",
    "pattern = '\\s+'\n",
    "# replace all white spaces with nothing\n",
    "replace = ''\n",
    "\n",
    "new_string = re.sub(pattern, replace,string)\n",
    "print(new_string)"
   ]
  },
  {
   "cell_type": "code",
   "execution_count": 12,
   "metadata": {},
   "outputs": [
    {
     "name": "stdout",
     "output_type": "stream",
     "text": [
      "   \n",
      "  \n",
      "6\n"
     ]
    },
    {
     "name": "stderr",
     "output_type": "stream",
     "text": [
      "<>:6: SyntaxWarning: invalid escape sequence '\\S'\n",
      "<>:6: SyntaxWarning: invalid escape sequence '\\S'\n",
      "C:\\Users\\91738\\AppData\\Local\\Temp\\ipykernel_16204\\2616332885.py:6: SyntaxWarning: invalid escape sequence '\\S'\n",
      "  pattern = '\\S+'\n"
     ]
    }
   ],
   "source": [
    "# multiline string\n",
    "string = 'abc 12\\\n",
    "de 23 \\n f45 6'\n",
    "    \n",
    "# only takes white spaces into string\n",
    "pattern = '\\S+'\n",
    "# replace all white spaces with nothing\n",
    "replace = ''\n",
    "\n",
    "new_string = re.sub(pattern, replace,string)\n",
    "print(new_string)\n",
    "count = 0\n",
    "for i in new_string:\n",
    "    count+=1\n",
    "print(count)\n"
   ]
  },
  {
   "cell_type": "code",
   "execution_count": 13,
   "metadata": {},
   "outputs": [
    {
     "name": "stdout",
     "output_type": "stream",
     "text": [
      "   \n",
      "  \n"
     ]
    },
    {
     "name": "stderr",
     "output_type": "stream",
     "text": [
      "<>:6: SyntaxWarning: invalid escape sequence '\\S'\n",
      "<>:6: SyntaxWarning: invalid escape sequence '\\S'\n",
      "C:\\Users\\91738\\AppData\\Local\\Temp\\ipykernel_16204\\4264566643.py:6: SyntaxWarning: invalid escape sequence '\\S'\n",
      "  pattern = '\\S+'\n"
     ]
    }
   ],
   "source": [
    "# multiline string\n",
    "string = 'abc 12\\\n",
    "de 23 \\n f45 6'\n",
    "    \n",
    "# only takes white spaces into string\n",
    "pattern = '\\S+'\n",
    "# replace all white spaces with nothing\n",
    "replace = ''\n",
    "# 1 will replace only frist occurance space then after that all are ignored\n",
    "# 0 for all apperance biy deaful its 0\n",
    "new_string = re.sub(pattern, replace,string,0)\n",
    "print(new_string)\n"
   ]
  },
  {
   "cell_type": "code",
   "execution_count": 14,
   "metadata": {},
   "outputs": [
    {
     "name": "stdout",
     "output_type": "stream",
     "text": [
      "('abc12de23f456', 4)\n"
     ]
    },
    {
     "name": "stderr",
     "output_type": "stream",
     "text": [
      "<>:6: SyntaxWarning: invalid escape sequence '\\s'\n",
      "<>:6: SyntaxWarning: invalid escape sequence '\\s'\n",
      "C:\\Users\\91738\\AppData\\Local\\Temp\\ipykernel_16204\\3438128103.py:6: SyntaxWarning: invalid escape sequence '\\s'\n",
      "  pattern = '\\s+'\n"
     ]
    }
   ],
   "source": [
    "# multiline string\n",
    "string = 'abc 12\\\n",
    "de 23 \\n f45 6'\n",
    "    \n",
    "# only takes white spaces into string\n",
    "pattern = '\\s+'\n",
    "# replace all white spaces with nothing\n",
    "replace = ''\n",
    "# 1 will replace only frist occurance space then after that all are ignored\n",
    "# 0 for all apperance biy deaful its 0\n",
    "new_string = re.subn(pattern, replace,string)\n",
    "print(new_string)\n",
    "# subn return tuple"
   ]
  },
  {
   "cell_type": "code",
   "execution_count": 15,
   "metadata": {},
   "outputs": [
    {
     "name": "stdout",
     "output_type": "stream",
     "text": [
      "pattern found\n"
     ]
    }
   ],
   "source": [
    "string = 'Python is easy'\n",
    "\n",
    "# \\A = is for at the begining\n",
    "# match = re.search('\\APython',string)\n",
    "match = re.search('[Pp]ython',string)\n",
    "\n",
    "if match:\n",
    "    print('pattern found')"
   ]
  },
  {
   "cell_type": "code",
   "execution_count": 16,
   "metadata": {},
   "outputs": [
    {
     "name": "stdout",
     "output_type": "stream",
     "text": [
      "801 35\n",
      "2\n"
     ]
    },
    {
     "data": {
      "text/plain": [
       "8"
      ]
     },
     "execution_count": 16,
     "metadata": {},
     "output_type": "execute_result"
    }
   ],
   "source": [
    "string = '39801 356, 2102 111'\n",
    "# pattern = '(\\d{3}) (\\d{2})'\n",
    "\n",
    "match = re.search(r'(\\d{3}) (\\d{2})', string)\n",
    "\n",
    "if match:\n",
    "    print(match.group())\n",
    "print(match.start())\n",
    "match.end()"
   ]
  },
  {
   "cell_type": "code",
   "execution_count": 17,
   "metadata": {},
   "outputs": [],
   "source": [
    "string = \"the quick brown fox jumps over the lazy dog\""
   ]
  },
  {
   "cell_type": "code",
   "execution_count": 18,
   "metadata": {},
   "outputs": [
    {
     "name": "stdout",
     "output_type": "stream",
     "text": [
      "['1', '2', '3', '4', '5', '6', '7', '8', '9', '0', '9', '8', '7', '6', '5', '3', '4', '2', '1']\n"
     ]
    }
   ],
   "source": [
    "multi_string = \"\"\"Hello this is my number 123456789\n",
    "and this is my friends number 0987653421\"\"\"\n",
    "\n",
    "match= re.findall(r'\\d',multi_string)\n",
    "if match:\n",
    "    print(match)"
   ]
  },
  {
   "cell_type": "code",
   "execution_count": 19,
   "metadata": {},
   "outputs": [
    {
     "data": {
      "text/plain": [
       "'S~*ject has ~*er booked already'"
      ]
     },
     "execution_count": 19,
     "metadata": {},
     "output_type": "execute_result"
    }
   ],
   "source": [
    "string= \"Subject has uber booked already\"\n",
    "repl = \"~*\"\n",
    "\n",
    "# count shows how may you want to repalce\n",
    "frist = re.sub(r'ub',repl,string,count=1,flags=re.I)\n",
    "frist = re.sub(r'ub',repl,string,count=2,flags=re.I)\n",
    "frist"
   ]
  },
  {
   "cell_type": "code",
   "execution_count": 20,
   "metadata": {},
   "outputs": [
    {
     "ename": "TypeError",
     "evalue": "unsupported operand type(s) for &: 'str' and 'RegexFlag'",
     "output_type": "error",
     "traceback": [
      "\u001b[1;31m---------------------------------------------------------------------------\u001b[0m",
      "\u001b[1;31mTypeError\u001b[0m                                 Traceback (most recent call last)",
      "Cell \u001b[1;32mIn[20], line 5\u001b[0m\n\u001b[0;32m      1\u001b[0m \u001b[38;5;66;03m# write a program string contains following patterns\u001b[39;00m\n\u001b[0;32m      2\u001b[0m \u001b[38;5;66;03m# pattern = 2 char followed by small or capital case then followed by space followed by 3 numbers\u001b[39;00m\n\u001b[0;32m      3\u001b[0m test \u001b[38;5;241m=\u001b[39m \u001b[38;5;124m\"\u001b[39m\u001b[38;5;124masdfab 123asdf\u001b[39m\u001b[38;5;124m\"\u001b[39m\n\u001b[1;32m----> 5\u001b[0m obj \u001b[38;5;241m=\u001b[39m \u001b[43mre\u001b[49m\u001b[38;5;241;43m.\u001b[39;49m\u001b[43msearch\u001b[49m\u001b[43m(\u001b[49m\u001b[38;5;124;43mr\u001b[39;49m\u001b[38;5;124;43m'\u001b[39;49m\u001b[38;5;124;43m(([a-zA-Z])\u001b[39;49m\u001b[38;5;132;43;01m{3}\u001b[39;49;00m\u001b[38;5;124;43m \u001b[39;49m\u001b[38;5;124;43m\\\u001b[39;49m\u001b[38;5;124;43md\u001b[39;49m\u001b[38;5;132;43;01m{3}\u001b[39;49;00m\u001b[38;5;124;43m)\u001b[39;49m\u001b[38;5;124;43m'\u001b[39;49m\u001b[43m,\u001b[49m\u001b[38;5;124;43m\"\u001b[39;49m\u001b[38;5;124;43m\"\u001b[39;49m\u001b[43m,\u001b[49m\u001b[43mtest\u001b[49m\u001b[43m)\u001b[49m\n\u001b[0;32m      6\u001b[0m obj\n",
      "File \u001b[1;32mc:\\Python312\\Lib\\re\\__init__.py:177\u001b[0m, in \u001b[0;36msearch\u001b[1;34m(pattern, string, flags)\u001b[0m\n\u001b[0;32m    174\u001b[0m \u001b[38;5;28;01mdef\u001b[39;00m \u001b[38;5;21msearch\u001b[39m(pattern, string, flags\u001b[38;5;241m=\u001b[39m\u001b[38;5;241m0\u001b[39m):\n\u001b[0;32m    175\u001b[0m \u001b[38;5;250m    \u001b[39m\u001b[38;5;124;03m\"\"\"Scan through string looking for a match to the pattern, returning\u001b[39;00m\n\u001b[0;32m    176\u001b[0m \u001b[38;5;124;03m    a Match object, or None if no match was found.\"\"\"\u001b[39;00m\n\u001b[1;32m--> 177\u001b[0m     \u001b[38;5;28;01mreturn\u001b[39;00m \u001b[43m_compile\u001b[49m\u001b[43m(\u001b[49m\u001b[43mpattern\u001b[49m\u001b[43m,\u001b[49m\u001b[43m \u001b[49m\u001b[43mflags\u001b[49m\u001b[43m)\u001b[49m\u001b[38;5;241m.\u001b[39msearch(string)\n",
      "File \u001b[1;32mc:\\Python312\\Lib\\re\\__init__.py:300\u001b[0m, in \u001b[0;36m_compile\u001b[1;34m(pattern, flags)\u001b[0m\n\u001b[0;32m    298\u001b[0m \u001b[38;5;28;01mif\u001b[39;00m \u001b[38;5;129;01mnot\u001b[39;00m _compiler\u001b[38;5;241m.\u001b[39misstring(pattern):\n\u001b[0;32m    299\u001b[0m     \u001b[38;5;28;01mraise\u001b[39;00m \u001b[38;5;167;01mTypeError\u001b[39;00m(\u001b[38;5;124m\"\u001b[39m\u001b[38;5;124mfirst argument must be string or compiled pattern\u001b[39m\u001b[38;5;124m\"\u001b[39m)\n\u001b[1;32m--> 300\u001b[0m \u001b[38;5;28;01mif\u001b[39;00m \u001b[43mflags\u001b[49m\u001b[43m \u001b[49m\u001b[38;5;241;43m&\u001b[39;49m\u001b[43m \u001b[49m\u001b[43mT\u001b[49m:\n\u001b[0;32m    301\u001b[0m     \u001b[38;5;28;01mimport\u001b[39;00m \u001b[38;5;21;01mwarnings\u001b[39;00m\n\u001b[0;32m    302\u001b[0m     warnings\u001b[38;5;241m.\u001b[39mwarn(\u001b[38;5;124m\"\u001b[39m\u001b[38;5;124mThe re.TEMPLATE/re.T flag is deprecated \u001b[39m\u001b[38;5;124m\"\u001b[39m\n\u001b[0;32m    303\u001b[0m             \u001b[38;5;124m\"\u001b[39m\u001b[38;5;124mas it is an undocumented flag \u001b[39m\u001b[38;5;124m\"\u001b[39m\n\u001b[0;32m    304\u001b[0m             \u001b[38;5;124m\"\u001b[39m\u001b[38;5;124mwithout an obvious purpose. \u001b[39m\u001b[38;5;124m\"\u001b[39m\n\u001b[0;32m    305\u001b[0m             \u001b[38;5;124m\"\u001b[39m\u001b[38;5;124mDon\u001b[39m\u001b[38;5;124m'\u001b[39m\u001b[38;5;124mt use it.\u001b[39m\u001b[38;5;124m\"\u001b[39m,\n\u001b[0;32m    306\u001b[0m             \u001b[38;5;167;01mDeprecationWarning\u001b[39;00m)\n",
      "\u001b[1;31mTypeError\u001b[0m: unsupported operand type(s) for &: 'str' and 'RegexFlag'"
     ]
    }
   ],
   "source": [
    "# write a program string contains following patterns\n",
    "# pattern = 2 char followed by small or capital case then followed by space followed by 3 numbers\n",
    "test = \"asdfab 123asdf\"\n",
    "\n",
    "obj = re.search(r'(([a-zA-Z]){3} \\d{3})',\"\",test)\n",
    "obj"
   ]
  },
  {
   "cell_type": "code",
   "execution_count": null,
   "metadata": {},
   "outputs": [
    {
     "data": {
      "text/plain": [
       "[]"
      ]
     },
     "execution_count": 124,
     "metadata": {},
     "output_type": "execute_result"
    }
   ],
   "source": [
    "# write a program to check ending with ly can be in small or capital\n",
    "\n",
    "string = \"freely free\"\n",
    "# \\b for endof the string\n",
    "obj = re.findall(r'[ly]\\b',string)\n",
    "obj = re.findall(r'[ly]$',string)\n",
    "obj"
   ]
  },
  {
   "cell_type": "code",
   "execution_count": 21,
   "metadata": {},
   "outputs": [
    {
     "name": "stdout",
     "output_type": "stream",
     "text": [
      "['@', ' ', '$', ' ', '!', ' ', '@', ' ', ' ', '$', ' ']\n"
     ]
    }
   ],
   "source": [
    "# write a program to match ending with special char thus count the same\n",
    "\n",
    "string = \"hello@ if$ not! avilavble@ done your$ leet\"\n",
    "\n",
    "obj = re.findall(r'\\W',string)\n",
    "obj2 = re.findall(r'\\w',string)\n",
    "print(obj)"
   ]
  },
  {
   "cell_type": "code",
   "execution_count": 50,
   "metadata": {},
   "outputs": [
    {
     "name": "stdout",
     "output_type": "stream",
     "text": [
      "['e@l', 't!a', 'e@d', 'r$l']\n"
     ]
    }
   ],
   "source": [
    "# write a program to match ending with special char thus count the same\n",
    "\n",
    "test = \"he@lloifnot!avilavble@doneyour$leet\"\n",
    "\n",
    "obj2 = re.findall(r'[A-Za-z]\\W[A-Za-z]',test)\n",
    "print(obj2)"
   ]
  },
  {
   "cell_type": "code",
   "execution_count": null,
   "metadata": {},
   "outputs": [],
   "source": []
  }
 ],
 "metadata": {
  "kernelspec": {
   "display_name": "Python 3",
   "language": "python",
   "name": "python3"
  },
  "language_info": {
   "codemirror_mode": {
    "name": "ipython",
    "version": 3
   },
   "file_extension": ".py",
   "mimetype": "text/x-python",
   "name": "python",
   "nbconvert_exporter": "python",
   "pygments_lexer": "ipython3",
   "version": "3.12.1"
  }
 },
 "nbformat": 4,
 "nbformat_minor": 2
}
