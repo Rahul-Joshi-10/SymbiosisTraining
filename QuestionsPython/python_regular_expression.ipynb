{
 "cells": [
  {
   "cell_type": "code",
   "execution_count": 2,
   "metadata": {},
   "outputs": [],
   "source": [
    "    # when data is big then we prefer the regular expression to compare string which will satisfy our constrains\n",
    "    import re"
   ]
  },
  {
   "cell_type": "code",
   "execution_count": 3,
   "metadata": {},
   "outputs": [
    {
     "name": "stdout",
     "output_type": "stream",
     "text": [
      "<re.Match object; span=(0, 36), match='rahul is good boi but ajinkya is not'>\n",
      "rahul is good boi but ajinkya is not\n",
      "rahul is good boi\n",
      "ajinkya\n"
     ]
    }
   ],
   "source": [
    "line = \"rahul is good boi but ajinkya is not\"\n",
    "# re.M = Multiline\n",
    "# re.I = Ignore case\n",
    "matchObj = re.match( r'(.*) but (.*?) .*', line, re.M | re.I)\n",
    "print(matchObj) \n",
    "print(matchObj.group(0))\n",
    "print(matchObj.group(1))\n",
    "print(matchObj.group(2))"
   ]
  },
  {
   "cell_type": "code",
   "execution_count": 4,
   "metadata": {},
   "outputs": [],
   "source": [
    "# match vs search\n",
    "# match will check the pattern at start of the string\n",
    "# search will check at any position"
   ]
  },
  {
   "cell_type": "code",
   "execution_count": 5,
   "metadata": {},
   "outputs": [
    {
     "name": "stdout",
     "output_type": "stream",
     "text": [
      "no match....\n",
      "cats\n"
     ]
    }
   ],
   "source": [
    "line  = \"dogs are smarter then cats\"\n",
    "# re.I = case sensitive \n",
    "obj = re.match(r'cats',line)\n",
    "if obj:\n",
    "    print(obj.group())\n",
    "else:\n",
    "    print(\"no match....\")\n",
    "obj = re.search(r'cats',line)\n",
    "if obj:\n",
    "    print(obj.group())\n",
    "else:\n",
    "    print(\"no match....\")\n"
   ]
  },
  {
   "cell_type": "markdown",
   "metadata": {},
   "source": [
    "* re.I Performs case-insensitive matching .\n",
    "*  re.L Interprets words according to the currentlocale. This interpretationaffects the\n",
    "*  alphabetic g roup (\\w and \\W), as well as word boundary behavior (\\b and \\B).\n",
    "*  re.M Makes $ matchthe end of a line (notjustthe end of the string ) and makes ^ match\n",
    "*  the start of any line (notjustthe start of the string ).\n",
    "*  re.S Makes a period (dot) matchany character, including a newline.\n",
    "*  re.U Interprets letters according to the Unicode character set. This flag affects the\n",
    "*  behavior of \\w, \\W, \\b, \\B.\n",
    "*  re.X Permits \"cuter\" regular expressionsyntax. Itignores whitespace (exceptinside\n",
    "*  a set[] or whenescaped by a backslash) and treats unescaped # as a comment\n",
    "*  marker."
   ]
  },
  {
   "cell_type": "markdown",
   "metadata": {},
   "source": [
    "* [Pp]ython Match\"Python\" or \"python\"\n",
    "* rub[ye] Match\"ruby\" or \"rube\"\n",
    "* [aeiou] Matchany one lowercase vowel\n",
    "* [0-9] Matchany dig it; same as [0123456789]\n",
    "* [a-z] Matchany lowercase ASCIIletter\n",
    "* [A-Z] Matchany uppercase ASCIIletter\n",
    "* [a-zA-Z0-9] Matchany of the above\n",
    "* [^aeiou] Matchanything other thana lowercase vowel\n",
    "* [^0-9] Matchanything other thana dig it"
   ]
  },
  {
   "cell_type": "code",
   "execution_count": 6,
   "metadata": {},
   "outputs": [
    {
     "name": "stdout",
     "output_type": "stream",
     "text": [
      "123-456-7890 # this is a phone number\n",
      "123-456-7890 \n",
      "-- # this is a phone number\n",
      "1234567890\n"
     ]
    }
   ],
   "source": [
    "phone = \"123-456-7890 # this is a phone number\"\n",
    "print(phone)\n",
    "# $ is indicates end of the line\n",
    "num = re.sub(r'#.*$',\"\",phone)\n",
    "print(num)\n",
    "\n",
    "# keep digits only\n",
    "num = re.sub(r'\\d',\"\",phone)\n",
    "print(num)\n",
    "num = re.sub(r'\\D',\"\",phone)\n",
    "print(num)"
   ]
  },
  {
   "cell_type": "code",
   "execution_count": 7,
   "metadata": {},
   "outputs": [
    {
     "name": "stdout",
     "output_type": "stream",
     "text": [
      "rahulj1280gmailcom\n",
      "sujalj1280@gmail.com\n"
     ]
    }
   ],
   "source": [
    "# write prog for given string if there is noise in form of speacial characters remove that noise and print other things\n",
    "arr = ['!','@','#','$','%','^','&','*','<','>','~','(',')','{','}','-','+','=',',','.','/','?',';',':']\n",
    "temp = \"\"\n",
    "str1 = \"rahulj1280@gmail.com\"\n",
    "for i in str1:\n",
    "    if i not in arr:\n",
    "        temp+=i\n",
    "\n",
    "print(temp)\n",
    "\n",
    "\n",
    "str1 = \"rahulj1280@gmail.com\"\n",
    "# '^'---> include\n",
    "obj = re.sub(r'rahul',\"sujal\",str1)\n",
    "# obj = re.sub(r'rahul',\"\",str1)\n",
    "print(obj)\n"
   ]
  },
  {
   "cell_type": "code",
   "execution_count": 14,
   "metadata": {},
   "outputs": [
    {
     "name": "stdout",
     "output_type": "stream",
     "text": [
      "['hello', '12', 'hi', '89', 'Howdy', '34']\n"
     ]
    },
    {
     "name": "stderr",
     "output_type": "stream",
     "text": [
      "<>:4: SyntaxWarning: invalid escape sequence '\\w'\n",
      "<>:4: SyntaxWarning: invalid escape sequence '\\w'\n",
      "C:\\Users\\91738\\AppData\\Local\\Temp\\ipykernel_18016\\128341261.py:4: SyntaxWarning: invalid escape sequence '\\w'\n",
      "  pattern = '\\w+'\n"
     ]
    }
   ],
   "source": [
    "# program to extract number form string\n",
    "import requests\n",
    "string = 'hello 12 hi 89, Howdy 34'\n",
    "pattern = '\\w+'\n",
    "# pattern = '[A-Za-z]'\n",
    "# characters along with puchuation mark\n",
    "result = re.findall(pattern,string)\n",
    "print(result)"
   ]
  }
 ],
 "metadata": {
  "kernelspec": {
   "display_name": "Python 3",
   "language": "python",
   "name": "python3"
  },
  "language_info": {
   "codemirror_mode": {
    "name": "ipython",
    "version": 3
   },
   "file_extension": ".py",
   "mimetype": "text/x-python",
   "name": "python",
   "nbconvert_exporter": "python",
   "pygments_lexer": "ipython3",
   "version": "3.12.1"
  }
 },
 "nbformat": 4,
 "nbformat_minor": 2
}
